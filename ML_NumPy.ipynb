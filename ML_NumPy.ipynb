{
  "nbformat": 4,
  "nbformat_minor": 0,
  "metadata": {
    "colab": {
      "provenance": []
    },
    "kernelspec": {
      "name": "python3",
      "display_name": "Python 3"
    },
    "language_info": {
      "name": "python"
    }
  },
  "cells": [
    {
      "cell_type": "markdown",
      "source": [
        "# **What is numpy?**\n",
        "\n",
        "A library for Python, NumPy lets you work with huge, multidimensional matrices and arrays. Along with that, it provides a gamut of high-level functions to perform mathematical operations on these structures. Here is a short brief about it:\n",
        "\n",
        "1.   Author- Travis Oliphant\n",
        "2.   First Release- 1995 (Released as Numeric; Changed to NumPy in 2006)\n",
        "3.   Stable Release- June, 2018\n",
        "4.   Written in- Python Programming, C\n",
        "5.   Python NumPy is cross-platform and BSD-licensed.\n",
        "6.   The term ‘Numpy’ is a portmanteau of the words ‘NUMerical’ and ‘PYthon’.\n",
        "7.   Numpy is a python library to create homogeneous multidimensional arrays and provide tools for working with these arrays.\n",
        "8.   The elements of numpy array are of the same type. One can create an array in Python using lists or array() function. The advantage of using Numpy array is it scales better and takes less memory when compared to standard Python list or array.\n",
        "9.   Using Numpy, you can perform following operations:\n",
        "10.   Mathematical and logical operations on arrays.\n",
        "11.   Fourier transforms and routines for shape manipulation.\n",
        "12.   Operations related to linear algebra. NumPy has inbuilt functions for linear algebra and random number generation."
      ],
      "metadata": {
        "id": "b3BdZS79ieA1"
      }
    },
    {
      "cell_type": "markdown",
      "source": [
        "# **Features of Numpy**\n",
        "\n",
        "Numpy offers several features, some of the features offered by Numpy are:\n",
        "\n",
        "*   NumPy stands on CPython, a non-optimizing bytecode interpreter.\n",
        "*   Multidimensional arrays.\n",
        "*   Functions and operators for these arrays.\n",
        "*   Python Alternative to MATLAB.\n",
        "*   ndarray- n-dimensional arrays.\n",
        "*   Fourier transforms and shapes manipulation.\n",
        "*   Linear algebra and random number generation."
      ],
      "metadata": {
        "id": "nQx9rCwljYML"
      }
    },
    {
      "cell_type": "markdown",
      "source": [
        "# **How to install Numpy**\n",
        "\n",
        "You Can Use Pip To Install Numpy\n",
        "*   pip install numpy\n",
        "\n",
        "\n",
        "Then you can import it as - \n",
        "*   import numpy as np\n",
        "\n",
        "\n"
      ],
      "metadata": {
        "id": "f_L7M_Dljl4J"
      }
    },
    {
      "cell_type": "markdown",
      "source": [
        "# **NumPy, NdArrays And Attributes**\n",
        "\n",
        "*   Numpy is a python library to create homogeneous multidimensional arrays and provide tools for working with these arrays.\n",
        "*   The elements of numpy array are of the same type. One can create an array in Python using lists or array() function. The advantage of using Numpy array is it scales better and takes less memory when compared to standard Python list or array.\n",
        "*   Using Numpy, you can perform following operations:\n",
        "*   Mathematical and logical operations on arrays.\n",
        "*   Fourier transforms and routines for shape manipulation.\n",
        "\n",
        "*   Operations related to linear algebra. NumPy has inbuilt functions for linear algebra and random number generation."
      ],
      "metadata": {
        "id": "K-PA0-HB09EX"
      }
    },
    {
      "cell_type": "markdown",
      "source": [
        "**Ndarray And Ndarray Attributes**\n",
        "\n",
        "NumPy’s array class is called ndarray. It is also known by the alias array. Note that numpy.array is not the same as the Standard Python Library class array.array, which only handles one-dimensional arrays and offers less functionality. Here is some most important attribute of the ndarray object:\n",
        "*   **ndarray.ndim** : the number of dimensions of the array. In Numpy, the number of dimensions is also the rank of the array.\n",
        "*   **ndarray.shape** : A tuple of integers representing the size of an array. For a matrix with n rows and m columns, the shape will be (n,m).\n",
        "*   **ndarray.size** : the total number of elements of the array. It is also equal to the product of the elements of shape.\n",
        "*   **ndarray.dtype** : It is an object that describes the type of the elements in the array.\n",
        "*   **ndarray.data** : It is a buffer that contains the actual elements of the array."
      ],
      "metadata": {
        "id": "mHm18uIU2na7"
      }
    },
    {
      "cell_type": "markdown",
      "source": [
        "**Python Join List**\n",
        "\n",
        "*   Python join list means concatenating a list of strings with a specified delimiter to form a string. Sometimes it’s useful when you have to convert list to string. For example, convert a list of alphabets to a comma-separated string to save in a file.\n",
        "*   We can use python string join() function to join a list of strings. This function takes iterable as argument and List is an interable, so we can use it with List.\n",
        "\n",
        "Let’s look at a short example for joining list in python to create a string."
      ],
      "metadata": {
        "id": "i38C4-pt5Qu0"
      }
    },
    {
      "cell_type": "code",
      "execution_count": null,
      "metadata": {
        "colab": {
          "base_uri": "https://localhost:8080/"
        },
        "id": "kOnRb2FV5Ar5",
        "outputId": "7a3c16d2-ce29-48fb-8e62-3d6037858d20"
      },
      "outputs": [
        {
          "output_type": "stream",
          "name": "stdout",
          "text": [
            "Vowels are =  a,e,i,o,u\n"
          ]
        }
      ],
      "source": [
        "# Example for joining list to create a string\n",
        "\n",
        "vowels = [\"a\", \"e\", \"i\", \"o\", \"u\"]\n",
        "vowelsCSV = \",\".join(vowels)\n",
        "print(\"Vowels are = \", vowelsCSV)"
      ]
    },
    {
      "cell_type": "markdown",
      "source": [
        "When we run the above program, it will produce the following output.\n",
        "\n",
        "Vowels are =  a,e,i,o,u"
      ],
      "metadata": {
        "id": "31D06TGQ6kel"
      }
    },
    {
      "cell_type": "markdown",
      "source": [
        "**Parameters For The Join() Method**\n",
        "\n",
        "*   The **join()** method takes an iterable (objects capable of returning its members one at a time) as its parameter.\n",
        "*   Some of the example of iterables are :  \n",
        "Native data types - List, Tuple, Dictionary, Set and String\n",
        "*   File objects and objects you define with an __iter__() or __getitem()__ method.\n",
        "*   **Return Value**: The join() method returns a string concatenated with the elements of iterable.\n",
        "*   **Type Error**: If the iterable contains any non-string values, it raises a TypeError exception."
      ],
      "metadata": {
        "id": "EZCLeQH26vDe"
      }
    },
    {
      "cell_type": "markdown",
      "source": [
        "**Working Of The Join() Method Example**"
      ],
      "metadata": {
        "id": "Y5ohY68c7jKc"
      }
    },
    {
      "cell_type": "code",
      "source": [
        "# .join() with lists\n",
        "numList = ['1', '2', '3', '4']\n",
        "separator = ', '\n",
        "print(separator.join(numList))\n",
        "# .join() with tuples\n",
        "numTuple = ('1', '2', '3', '4')\n",
        "print(separator.join(numTuple))\n",
        "s1 = 'abc'\n",
        "s2 = '123'\n",
        "# each element of s2 is separated by s1\n",
        "# '1'+ 'abc'+ '2'+ 'abc'+ '3'\n",
        "print('s1.join(s2):', s1.join(s2))\n",
        "# each element of s1 is separated by s2\n",
        "# 'a'+ '123'+ 'b'+ '123'+ 'b'\n",
        "print('s2.join(s1):', s2.join(s1))"
      ],
      "metadata": {
        "id": "fOEFYYeA5rn1"
      },
      "execution_count": null,
      "outputs": []
    },
    {
      "cell_type": "markdown",
      "source": [
        "**Output**\n",
        "\n",
        "1, 2, 3, 4\n",
        "\n",
        "1, 2, 3, 4\n",
        "\n",
        "s1.join(s2): 1abc2abc3\n",
        "\n",
        "s2.join(s1): a123b123c"
      ],
      "metadata": {
        "id": "0NlEHK4N776L"
      }
    },
    {
      "cell_type": "markdown",
      "source": [
        "**Python Join Two Strings**\n",
        "\n",
        "We can use join() function to join two strings too."
      ],
      "metadata": {
        "id": "s2389c8Q8FqY"
      }
    },
    {
      "cell_type": "code",
      "source": [
        "message = \"Hello \"+\"World\"\n",
        "print(message)"
      ],
      "metadata": {
        "id": "z2rxRGCC5s2v",
        "colab": {
          "base_uri": "https://localhost:8080/"
        },
        "outputId": "c29d115f-1571-4dd0-b327-903e66ed4b22"
      },
      "execution_count": null,
      "outputs": [
        {
          "output_type": "stream",
          "name": "stdout",
          "text": [
            "Hello World\n"
          ]
        }
      ]
    },
    {
      "cell_type": "markdown",
      "source": [
        "**Output**\n",
        "\n",
        "Hello World"
      ],
      "metadata": {
        "id": "r2DZuSi38W2v"
      }
    },
    {
      "cell_type": "markdown",
      "source": [
        "**Joining With Empty String**"
      ],
      "metadata": {
        "id": "gqpAOWdl8jlX"
      }
    },
    {
      "cell_type": "code",
      "source": [
        "# Python program to demonstrate the \n",
        "# use of join function to join list \n",
        "# elements without any separator. \n",
        "  \n",
        "# Joining with empty separator \n",
        "list1 = ['h','e','l','l', 'o']  \n",
        "print(\"\".join(list1))"
      ],
      "metadata": {
        "colab": {
          "base_uri": "https://localhost:8080/"
        },
        "id": "fNWNoXQG8x3a",
        "outputId": "0a6dd4dd-f381-48e8-b510-270dc6524b3d"
      },
      "execution_count": null,
      "outputs": [
        {
          "output_type": "stream",
          "name": "stdout",
          "text": [
            "hello\n"
          ]
        }
      ]
    },
    {
      "cell_type": "markdown",
      "source": [
        "**Output**\n",
        "\n",
        "hello"
      ],
      "metadata": {
        "id": "O4IaPM-q8-0B"
      }
    },
    {
      "cell_type": "markdown",
      "source": [
        "**The Join() Method With Sets**"
      ],
      "metadata": {
        "id": "VM4QHsVw9EQV"
      }
    },
    {
      "cell_type": "code",
      "source": [
        "# .join() with sets\n",
        "test = {'2', '1', '3'}\n",
        "s = ', '\n",
        "print(s.join(test))\n",
        "test = {'Python', 'Java', 'Ruby'}\n",
        "s = '->->'\n",
        "print(s.join(test))"
      ],
      "metadata": {
        "colab": {
          "base_uri": "https://localhost:8080/"
        },
        "id": "F9RdesYJdY_u",
        "outputId": "b97b8f2f-8923-4d80-b2b9-0a2acf6d7079"
      },
      "execution_count": null,
      "outputs": [
        {
          "output_type": "stream",
          "name": "stdout",
          "text": [
            "1, 3, 2\n",
            "Java->->Ruby->->Python\n"
          ]
        }
      ]
    },
    {
      "cell_type": "markdown",
      "source": [
        "**Output**\n",
        "\n",
        "1, 3, 2\n",
        "\n",
        "Java->->Ruby->->Python\n",
        "\n",
        "**Note** : The order of the values might change as it is a set."
      ],
      "metadata": {
        "id": "0oduEpeLdbhq"
      }
    },
    {
      "cell_type": "markdown",
      "source": [
        "**The Join() Method With Dictionaries**"
      ],
      "metadata": {
        "id": "8vULURf_eDEo"
      }
    },
    {
      "cell_type": "code",
      "source": [
        "# .join() with dictionaries\n",
        "test = {'mat': 1, 'that': 2}\n",
        "s = '->'\n",
        "# joins the keys only\n",
        "print(s.join(test))\n",
        "test = {1: 'mat', 2: 'that'}\n",
        "s = ', '\n",
        "# this gives error since key isn't string\n",
        "print(s.join(test))"
      ],
      "metadata": {
        "colab": {
          "base_uri": "https://localhost:8080/",
          "height": 217
        },
        "id": "rAeLsKe4eSMP",
        "outputId": "b9f90edc-5d0a-4cb8-e0f0-077aa839ba91"
      },
      "execution_count": null,
      "outputs": [
        {
          "output_type": "stream",
          "name": "stdout",
          "text": [
            "mat->that\n"
          ]
        },
        {
          "output_type": "error",
          "ename": "TypeError",
          "evalue": "ignored",
          "traceback": [
            "\u001b[0;31m---------------------------------------------------------------------------\u001b[0m",
            "\u001b[0;31mTypeError\u001b[0m                                 Traceback (most recent call last)",
            "\u001b[0;32m<ipython-input-2-4a9430cc7bdb>\u001b[0m in \u001b[0;36m<module>\u001b[0;34m\u001b[0m\n\u001b[1;32m      7\u001b[0m \u001b[0ms\u001b[0m \u001b[0;34m=\u001b[0m \u001b[0;34m', '\u001b[0m\u001b[0;34m\u001b[0m\u001b[0;34m\u001b[0m\u001b[0m\n\u001b[1;32m      8\u001b[0m \u001b[0;31m# this gives error since key isn't string\u001b[0m\u001b[0;34m\u001b[0m\u001b[0;34m\u001b[0m\u001b[0m\n\u001b[0;32m----> 9\u001b[0;31m \u001b[0mprint\u001b[0m\u001b[0;34m(\u001b[0m\u001b[0ms\u001b[0m\u001b[0;34m.\u001b[0m\u001b[0mjoin\u001b[0m\u001b[0;34m(\u001b[0m\u001b[0mtest\u001b[0m\u001b[0;34m)\u001b[0m\u001b[0;34m)\u001b[0m\u001b[0;34m\u001b[0m\u001b[0;34m\u001b[0m\u001b[0m\n\u001b[0m",
            "\u001b[0;31mTypeError\u001b[0m: sequence item 0: expected str instance, int found"
          ]
        }
      ]
    },
    {
      "cell_type": "markdown",
      "source": [
        "**Output**\n",
        "\n",
        "mat->that\n",
        "\n",
        "TypeError: sequence item 0: expected str instance, int found "
      ],
      "metadata": {
        "id": "x2YSXKRQefC8"
      }
    },
    {
      "cell_type": "markdown",
      "source": [
        "The join() method tries to join the keys (not values) of the dictionary with the string separator.\n",
        "\n",
        "**Note** : If the key of the string is not a string, it raises a TypeError exception."
      ],
      "metadata": {
        "id": "JwgYB08Ye0N2"
      }
    },
    {
      "cell_type": "markdown",
      "source": [
        "**Np.Arrange**\n",
        "\n",
        "The arange() function from numpy creates numeric sequences. It’s syntax is as follows:\n",
        "\n",
        "**np.arrange (start, stop, step, dtype)**\n",
        "\n",
        "start: the start of the interval (optional)\n",
        "\n",
        "stop: the end of the interval.\n",
        "\n",
        "step: the step between values (optional)\n",
        "\n",
        "dtype: the data type (optional)\n",
        "\n",
        "**Example On Np.Arrange()**"
      ],
      "metadata": {
        "id": "kzgqQz4_fBeJ"
      }
    },
    {
      "cell_type": "code",
      "source": [
        "import numpy as np\n",
        "myArray1 = np.arange (0,14)\n",
        "myArray2 = np.arange (5,14)\n",
        "myArray3 = np.arange (8)\n",
        "myArray4 = np.arange (0,14,1.5)\n",
        "myArray5 = np.arange (0,14,dtype='float')\n",
        "print (myArray1)\n",
        "print (myArray2)\n",
        "print (myArray3)\n",
        "print (myArray4)\n",
        "print (myArray5)"
      ],
      "metadata": {
        "colab": {
          "base_uri": "https://localhost:8080/"
        },
        "id": "uuNo0RFXeS8j",
        "outputId": "ba88f7e0-0c80-44a5-c9f2-3e01a6eaa666"
      },
      "execution_count": null,
      "outputs": [
        {
          "output_type": "stream",
          "name": "stdout",
          "text": [
            "[ 0  1  2  3  4  5  6  7  8  9 10 11 12 13]\n",
            "[ 5  6  7  8  9 10 11 12 13]\n",
            "[0 1 2 3 4 5 6 7]\n",
            "[ 0.   1.5  3.   4.5  6.   7.5  9.  10.5 12.  13.5]\n",
            "[ 0.  1.  2.  3.  4.  5.  6.  7.  8.  9. 10. 11. 12. 13.]\n"
          ]
        }
      ]
    },
    {
      "cell_type": "markdown",
      "source": [
        "**Output**\n",
        "\n",
        "[ 0  1  2  3  4  5  6  7  8  9 10 11 12 13]\n",
        "\n",
        "[ 5  6  7  8  9 10 11 12 13]\n",
        "\n",
        "[0 1 2 3 4 5 6 7]\n",
        "\n",
        "[ 0.   1.5  3.   4.5  6.   7.5  9.  10.5 12.  13.5]\n",
        "\n",
        "[ 0.  1.  2.  3.  4.  5.  6.  7.  8.  9. 10. 11. 12. 13.]"
      ],
      "metadata": {
        "id": "3ngXzZ-2f1wo"
      }
    },
    {
      "cell_type": "markdown",
      "source": [
        "**Np.Reshape**\n",
        "\n",
        "Numpy reshape() function will reshape an existing array into a different dimensioned array.\n",
        "\n",
        "**Example On Np.Reshape()**"
      ],
      "metadata": {
        "id": "o6TIb1vTgJLv"
      }
    },
    {
      "cell_type": "code",
      "source": [
        "import numpy as np\n",
        " # create a 1 dimensional array\n",
        "myArray1 = np.arange (0,9)\n",
        "print (myArray1)\n",
        " \n",
        "# convert the 1D array to a 2D array\n",
        "myArray2 = myArray1.reshape(3,3) # (rows, columns)\n",
        "print (myArray2)\n",
        " \n",
        "print (\"--------------------------\")\n",
        "print (myArray1.shape)\n",
        "print (myArray2.shape)"
      ],
      "metadata": {
        "colab": {
          "base_uri": "https://localhost:8080/"
        },
        "id": "uiGfJ99SgcY_",
        "outputId": "7c756c74-1ec0-4e5b-8b9a-fac3128c802f"
      },
      "execution_count": null,
      "outputs": [
        {
          "output_type": "stream",
          "name": "stdout",
          "text": [
            "[0 1 2 3 4 5 6 7 8]\n",
            "[[0 1 2]\n",
            " [3 4 5]\n",
            " [6 7 8]]\n",
            "--------------------------\n",
            "(9,)\n",
            "(3, 3)\n"
          ]
        }
      ]
    },
    {
      "cell_type": "markdown",
      "source": [
        "**Output**\n",
        "\n",
        "[0 1 2 3 4 5 6 7 8]\n",
        "\n",
        "[[0 1 2]\n",
        " [3 4 5]\n",
        " [6 7 8]]\n",
        "\n",
        "(9,)\n",
        "\n",
        "(3, 3)"
      ],
      "metadata": {
        "id": "uKb8s7PDgiyB"
      }
    },
    {
      "cell_type": "markdown",
      "source": [
        "**numpy slicing/stacking and indexing with boolean array**\n",
        "\n"
      ],
      "metadata": {
        "id": "X0bG2EucguA7"
      }
    },
    {
      "cell_type": "code",
      "source": [
        "import numpy as np\n",
        "a = np.array([[6,7,8], [1,2,3], [9,3,2]])\n",
        "print(a)\n",
        "print(a[1,2])\n",
        "print(a[0:2,2])\n",
        "print(a[-1])"
      ],
      "metadata": {
        "colab": {
          "base_uri": "https://localhost:8080/"
        },
        "id": "pDnlnCjkeZiK",
        "outputId": "5462a91e-375e-44c5-bbdf-9887c8d4bf12"
      },
      "execution_count": null,
      "outputs": [
        {
          "output_type": "stream",
          "name": "stdout",
          "text": [
            "[[6 7 8]\n",
            " [1 2 3]\n",
            " [9 3 2]]\n",
            "3\n",
            "[8 3]\n",
            "[9 3 2]\n"
          ]
        }
      ]
    },
    {
      "cell_type": "markdown",
      "source": [
        "Output\n",
        "\n",
        "[[6 7 8]\n",
        " [1 2 3]\n",
        " [9 3 2]]\n",
        "\n",
        " 3\n",
        "\n",
        "[8 3]\n",
        "\n",
        "[9 3 2]"
      ],
      "metadata": {
        "id": "6u88oHJDhv6G"
      }
    },
    {
      "cell_type": "markdown",
      "source": [
        "![array1.PNG](data:image/png;base64,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)"
      ],
      "metadata": {
        "id": "jdjVvZZWjsF6"
      }
    },
    {
      "cell_type": "markdown",
      "source": [],
      "metadata": {
        "id": "qxNVh200j_r2"
      }
    },
    {
      "cell_type": "code",
      "source": [
        "a[:,1:3]"
      ],
      "metadata": {
        "colab": {
          "base_uri": "https://localhost:8080/"
        },
        "id": "W_-bX_vYh2M-",
        "outputId": "a24c2380-c895-46d1-a997-c8cecbbee9cb"
      },
      "execution_count": null,
      "outputs": [
        {
          "output_type": "execute_result",
          "data": {
            "text/plain": [
              "array([[7, 8],\n",
              "       [2, 3],\n",
              "       [3, 2]])"
            ]
          },
          "metadata": {},
          "execution_count": 7
        }
      ]
    },
    {
      "cell_type": "code",
      "source": [
        "a = np.arange(6).reshape(3,2)\n",
        "b = np.arange(6,12).reshape(3,2)\n",
        "print(a)\n",
        "print(b)\n"
      ],
      "metadata": {
        "colab": {
          "base_uri": "https://localhost:8080/"
        },
        "id": "RCDEN2IusctT",
        "outputId": "ace92c0f-2d3f-44e9-d85b-037af684b7b5"
      },
      "execution_count": null,
      "outputs": [
        {
          "output_type": "stream",
          "name": "stdout",
          "text": [
            "[[0 1]\n",
            " [2 3]\n",
            " [4 5]]\n",
            "[[ 6  7]\n",
            " [ 8  9]\n",
            " [10 11]]\n"
          ]
        }
      ]
    },
    {
      "cell_type": "code",
      "source": [
        "np.vstack((a,b))"
      ],
      "metadata": {
        "colab": {
          "base_uri": "https://localhost:8080/"
        },
        "id": "moW8ViQDs9jt",
        "outputId": "6c3894a1-c41e-4d42-e1dc-4d19efba5137"
      },
      "execution_count": null,
      "outputs": [
        {
          "output_type": "execute_result",
          "data": {
            "text/plain": [
              "array([[ 0,  1],\n",
              "       [ 2,  3],\n",
              "       [ 4,  5],\n",
              "       [ 6,  7],\n",
              "       [ 8,  9],\n",
              "       [10, 11]])"
            ]
          },
          "metadata": {},
          "execution_count": 11
        }
      ]
    },
    {
      "cell_type": "code",
      "source": [
        "np.hstack((a,b))"
      ],
      "metadata": {
        "colab": {
          "base_uri": "https://localhost:8080/"
        },
        "id": "krsk-wQqtusF",
        "outputId": "6657ad02-2b5a-4fd3-cfb9-5aa6158db2dd"
      },
      "execution_count": null,
      "outputs": [
        {
          "output_type": "execute_result",
          "data": {
            "text/plain": [
              "array([[ 0,  1,  6,  7],\n",
              "       [ 2,  3,  8,  9],\n",
              "       [ 4,  5, 10, 11]])"
            ]
          },
          "metadata": {},
          "execution_count": 12
        }
      ]
    },
    {
      "cell_type": "code",
      "source": [
        "a = np.arange(30).reshape(2,15)\n",
        "print(a)"
      ],
      "metadata": {
        "colab": {
          "base_uri": "https://localhost:8080/"
        },
        "id": "8PeNRBzfuHgS",
        "outputId": "37418095-86c0-42ff-fc69-c4b62e0d2fec"
      },
      "execution_count": null,
      "outputs": [
        {
          "output_type": "stream",
          "name": "stdout",
          "text": [
            "[[ 0  1  2  3  4  5  6  7  8  9 10 11 12 13 14]\n",
            " [15 16 17 18 19 20 21 22 23 24 25 26 27 28 29]]\n"
          ]
        }
      ]
    },
    {
      "cell_type": "code",
      "source": [
        "np.hsplit(a,3)"
      ],
      "metadata": {
        "colab": {
          "base_uri": "https://localhost:8080/"
        },
        "id": "1rVCW5c4uUA5",
        "outputId": "cc510a6d-f534-4970-c4b9-aacd9723dec8"
      },
      "execution_count": null,
      "outputs": [
        {
          "output_type": "execute_result",
          "data": {
            "text/plain": [
              "[array([[ 0,  1,  2,  3,  4],\n",
              "        [15, 16, 17, 18, 19]]), array([[ 5,  6,  7,  8,  9],\n",
              "        [20, 21, 22, 23, 24]]), array([[10, 11, 12, 13, 14],\n",
              "        [25, 26, 27, 28, 29]])]"
            ]
          },
          "metadata": {},
          "execution_count": 15
        }
      ]
    },
    {
      "cell_type": "code",
      "source": [
        "result = np.hsplit(a,3)"
      ],
      "metadata": {
        "id": "ScZnaqiRuqXM"
      },
      "execution_count": null,
      "outputs": []
    },
    {
      "cell_type": "code",
      "source": [
        "result[0]"
      ],
      "metadata": {
        "colab": {
          "base_uri": "https://localhost:8080/"
        },
        "id": "U_6ZCc6cu12Z",
        "outputId": "51858f6d-2df2-428f-a85d-aa01d56d32ba"
      },
      "execution_count": null,
      "outputs": [
        {
          "output_type": "execute_result",
          "data": {
            "text/plain": [
              "array([[ 0,  1,  2,  3,  4],\n",
              "       [15, 16, 17, 18, 19]])"
            ]
          },
          "metadata": {},
          "execution_count": 18
        }
      ]
    },
    {
      "cell_type": "code",
      "source": [
        "result[1]"
      ],
      "metadata": {
        "colab": {
          "base_uri": "https://localhost:8080/"
        },
        "id": "hlAp87XCu63j",
        "outputId": "44a82646-072f-4cf6-ea55-05a918069ddf"
      },
      "execution_count": null,
      "outputs": [
        {
          "output_type": "execute_result",
          "data": {
            "text/plain": [
              "array([[ 5,  6,  7,  8,  9],\n",
              "       [20, 21, 22, 23, 24]])"
            ]
          },
          "metadata": {},
          "execution_count": 19
        }
      ]
    },
    {
      "cell_type": "code",
      "source": [
        "result[2]"
      ],
      "metadata": {
        "colab": {
          "base_uri": "https://localhost:8080/"
        },
        "id": "77A4ccOMu_dE",
        "outputId": "813e85b6-75ba-4fe5-f625-6f4c1f910d61"
      },
      "execution_count": null,
      "outputs": [
        {
          "output_type": "execute_result",
          "data": {
            "text/plain": [
              "array([[10, 11, 12, 13, 14],\n",
              "       [25, 26, 27, 28, 29]])"
            ]
          },
          "metadata": {},
          "execution_count": 20
        }
      ]
    },
    {
      "cell_type": "code",
      "source": [
        "res = np.vsplit(a,2)"
      ],
      "metadata": {
        "id": "zoX_Q22mvSKe"
      },
      "execution_count": null,
      "outputs": []
    },
    {
      "cell_type": "code",
      "source": [
        "res[0]"
      ],
      "metadata": {
        "colab": {
          "base_uri": "https://localhost:8080/"
        },
        "id": "KeEmMbnzvbIQ",
        "outputId": "cdaec95f-b9e3-42bd-93dc-1a35fa68793a"
      },
      "execution_count": null,
      "outputs": [
        {
          "output_type": "execute_result",
          "data": {
            "text/plain": [
              "array([[ 0,  1,  2,  3,  4,  5,  6,  7,  8,  9, 10, 11, 12, 13, 14]])"
            ]
          },
          "metadata": {},
          "execution_count": 23
        }
      ]
    },
    {
      "cell_type": "code",
      "source": [
        "res[1]"
      ],
      "metadata": {
        "colab": {
          "base_uri": "https://localhost:8080/"
        },
        "id": "if8YUDYVvdo1",
        "outputId": "2e233903-b038-4dce-cb84-f8b2424fa130"
      },
      "execution_count": null,
      "outputs": [
        {
          "output_type": "execute_result",
          "data": {
            "text/plain": [
              "array([[15, 16, 17, 18, 19, 20, 21, 22, 23, 24, 25, 26, 27, 28, 29]])"
            ]
          },
          "metadata": {},
          "execution_count": 24
        }
      ]
    },
    {
      "cell_type": "code",
      "source": [
        "x = np.arange(15).reshape(3,5)\n",
        "print(x)\n",
        "\n",
        "y = x > 6\n",
        "print(y)"
      ],
      "metadata": {
        "colab": {
          "base_uri": "https://localhost:8080/"
        },
        "id": "Bt31uhNewDSl",
        "outputId": "3bd4da21-1445-4f7c-b8fb-24205dc40c5e"
      },
      "execution_count": null,
      "outputs": [
        {
          "output_type": "stream",
          "name": "stdout",
          "text": [
            "[[ 0  1  2  3  4]\n",
            " [ 5  6  7  8  9]\n",
            " [10 11 12 13 14]]\n",
            "[[False False False False False]\n",
            " [False False  True  True  True]\n",
            " [ True  True  True  True  True]]\n"
          ]
        }
      ]
    },
    {
      "cell_type": "code",
      "source": [
        "x[y]"
      ],
      "metadata": {
        "colab": {
          "base_uri": "https://localhost:8080/"
        },
        "id": "8W9d85jwzPF4",
        "outputId": "d7461a7d-1478-4296-f627-e9657b938a9f"
      },
      "execution_count": null,
      "outputs": [
        {
          "output_type": "execute_result",
          "data": {
            "text/plain": [
              "array([ 7,  8,  9, 10, 11, 12, 13, 14])"
            ]
          },
          "metadata": {},
          "execution_count": 28
        }
      ]
    },
    {
      "cell_type": "code",
      "source": [
        "x[y] = -1\n",
        "print(x)"
      ],
      "metadata": {
        "colab": {
          "base_uri": "https://localhost:8080/"
        },
        "id": "jk724iXezWHi",
        "outputId": "df7da9a9-ae7b-4191-cf39-4b3cbae5daec"
      },
      "execution_count": null,
      "outputs": [
        {
          "output_type": "stream",
          "name": "stdout",
          "text": [
            "[[ 0  1  2  3  4]\n",
            " [ 5  6 -1 -1 -1]\n",
            " [-1 -1 -1 -1 -1]]\n"
          ]
        }
      ]
    },
    {
      "cell_type": "markdown",
      "source": [
        "# Arithmetic Operations on array\n",
        "\n"
      ],
      "metadata": {
        "id": "WpaPGlGJzpWx"
      }
    },
    {
      "cell_type": "code",
      "source": [
        "import numpy as np\n",
        "\n",
        "x = np.array([[1,2], [3,4]])\n",
        "y = np.array([[5,6], [7,8]])\n",
        "\n",
        "print(x+y)\n",
        "print(np.add(x,y))\n",
        "print()\n",
        "\n",
        "print(x-y)\n",
        "print(np.subtract(x,y))\n",
        "print()\n",
        "\n",
        "print(x*y)\n",
        "print(np.multiply(x,y))\n",
        "print()\n",
        "\n",
        "print(x/y)\n",
        "print(np.divide(x,y))\n",
        "print()\n",
        "\n",
        "print(y//x)\n",
        "print()\n",
        "\n",
        "print(np.sqrt(y))"
      ],
      "metadata": {
        "colab": {
          "base_uri": "https://localhost:8080/"
        },
        "id": "zUrfKLn-z4cz",
        "outputId": "85464028-f522-419b-d750-cb6ef89a9d76"
      },
      "execution_count": null,
      "outputs": [
        {
          "output_type": "stream",
          "name": "stdout",
          "text": [
            "[[ 6  8]\n",
            " [10 12]]\n",
            "[[ 6  8]\n",
            " [10 12]]\n",
            "\n",
            "[[-4 -4]\n",
            " [-4 -4]]\n",
            "[[-4 -4]\n",
            " [-4 -4]]\n",
            "\n",
            "[[ 5 12]\n",
            " [21 32]]\n",
            "[[ 5 12]\n",
            " [21 32]]\n",
            "\n",
            "[[0.2        0.33333333]\n",
            " [0.42857143 0.5       ]]\n",
            "[[0.2        0.33333333]\n",
            " [0.42857143 0.5       ]]\n",
            "\n",
            "[[5 3]\n",
            " [2 2]]\n",
            "\n",
            "[[2.23606798 2.44948974]\n",
            " [2.64575131 2.82842712]]\n"
          ]
        }
      ]
    },
    {
      "cell_type": "markdown",
      "source": [
        "**Convert List to Numpy Array**"
      ],
      "metadata": {
        "id": "KfH339vv4fym"
      }
    },
    {
      "cell_type": "code",
      "source": [
        "import numpy as np\n",
        "list1 = [[1,2,3,4], [8,9,10,11], [21,22,23,24]]\n",
        "arr = np.array(list1).reshape(4,3) #converting list to array and reshaping it\n",
        "print(arr)"
      ],
      "metadata": {
        "colab": {
          "base_uri": "https://localhost:8080/"
        },
        "id": "wfj7eP8B5Rjf",
        "outputId": "f851d182-f379-4ce3-cf09-4b8f3425e0e2"
      },
      "execution_count": null,
      "outputs": [
        {
          "output_type": "stream",
          "name": "stdout",
          "text": [
            "[[ 1  2  3]\n",
            " [ 4  8  9]\n",
            " [10 11 21]\n",
            " [22 23 24]]\n"
          ]
        }
      ]
    },
    {
      "cell_type": "markdown",
      "source": [
        "**Finding Unique elements and its count**"
      ],
      "metadata": {
        "id": "UlV95BMK6qoG"
      }
    },
    {
      "cell_type": "code",
      "source": [
        "import numpy as np\n",
        "start = 11\n",
        "end = 16\n",
        "size = 25\n",
        "arr = np.random.randint(start, end, size)\n",
        "uniq,count = np.unique(arr,return_counts=True)\n",
        "print(\"Unique elements : \",uniq)\n",
        "print(\"element Count : \",count)"
      ],
      "metadata": {
        "colab": {
          "base_uri": "https://localhost:8080/"
        },
        "id": "RRz5Ow877GAE",
        "outputId": "864d3cd2-be3c-4875-e6a9-6cc0c8c24e8a"
      },
      "execution_count": null,
      "outputs": [
        {
          "output_type": "stream",
          "name": "stdout",
          "text": [
            "Unique elements :  [11 12 13 14 15]\n",
            "element Count :  [4 7 7 5 2]\n"
          ]
        }
      ]
    },
    {
      "cell_type": "markdown",
      "source": [
        "**Output**\n",
        "\n",
        "Unique elements :  [11 12 13 14 15]\n",
        "\n",
        "element Count :  [4 7 7 5 2]\n",
        "\n",
        "**Note** : The output keeps changing as the attribute used here is random. So the input will be random values between start and end. Also the count depend on the size/ number of the random numbers generated."
      ],
      "metadata": {
        "id": "W4Sa0RuM9pEs"
      }
    },
    {
      "cell_type": "markdown",
      "source": [
        "#**Example Sample Programs**\n",
        "#Sample Program 1\n",
        "\n",
        "Sample program to understand the basics of Numpy. Write the code in the with the help of reference code given below and check the output.\n",
        "\n",
        "**Refer to this**\n",
        "\n",
        "import numpy as np\n",
        "\n",
        "'''**we have a function arange() which makes an array of the specified dimension. Example:**'''\n",
        "\n",
        "a = int(input())   \n",
        "b = int(input())   \n",
        "myArray = np.arange(a)   \n",
        "print(myArray)\n",
        "\n",
        "'''**an array from a to b**'''  \n",
        "myArray = np.arange(a,b)   \n",
        "print(myArray)\n",
        "\n",
        "'''**an array from a to b with 2 steps**'''   \n",
        "myArray = np.arange(a,b,2)  \n",
        "print(myArray)\n",
        "\n",
        "'''**reshape() helps to reshape our NumPy array**'''  \n",
        "myArray = np.arange(a)\n",
        "\n",
        "'''**syntax: reshape(number_of_rows, number_of_columns)**''' \n",
        "myArray = myArray.reshape(2,5)  \n",
        "print(myArray)\n",
        "\n",
        "'''**shape returns the shape of the array. The length of shape tuple is called as rank (or dimension)**'''  \n",
        "print(myArray.shape)\n",
        "\n",
        "'''**ndim returns the dimension (rank) of the array**'''  \n",
        "print(myArray.ndim)\n",
        "\n",
        "'''**size returns the total number of elements in the array**'''  \n",
        "print(myArray.size)\n",
        "\n",
        "'''**to check the data we have dtype.**'''  \n",
        "print(myArray.dtype)\n",
        "\n",
        "'''**zeros creates an array will all zeros**'''  \n",
        "myArray = np.zeros((3, 4))  \n",
        "print(myArray)\n",
        "\n",
        "'''**ones creates an array with all ones**'''  \n",
        "myArray = np.ones((3, 4))  \n",
        "print(myArray)"
      ],
      "metadata": {
        "id": "Nf7xqE2d-O60"
      }
    },
    {
      "cell_type": "code",
      "source": [
        "#write your code here and check for the output"
      ],
      "metadata": {
        "id": "kLjStBB_FpyS"
      },
      "execution_count": null,
      "outputs": []
    },
    {
      "cell_type": "markdown",
      "source": [
        "#Sample Program 2\n",
        "A sample program to work with **datatypes** in numpy.\n"
      ],
      "metadata": {
        "id": "nYsBi-OtGAlj"
      }
    },
    {
      "cell_type": "code",
      "source": [
        "import numpy as np\n",
        "\n",
        "# while creating a numpy array, any data type from above can be explicitly specified.\n",
        "a = int(input())\n",
        "myArray = np.arange(a)\n",
        "print(myArray)\n",
        "\n",
        "myArray = np.array(myArray, dtype = np.float32)\n",
        "print(myArray)\n",
        "\n",
        "myArray = np.array(myArray, dtype = np.complex64)\n",
        "print(myArray)"
      ],
      "metadata": {
        "colab": {
          "base_uri": "https://localhost:8080/"
        },
        "id": "Zrfr_lgNHX7o",
        "outputId": "54ce4f04-9640-4a01-df11-3e5a0ab4ee0b"
      },
      "execution_count": null,
      "outputs": [
        {
          "output_type": "stream",
          "name": "stdout",
          "text": [
            "10\n",
            "[0 1 2 3 4 5 6 7 8 9]\n",
            "[0. 1. 2. 3. 4. 5. 6. 7. 8. 9.]\n",
            "[0.+0.j 1.+0.j 2.+0.j 3.+0.j 4.+0.j 5.+0.j 6.+0.j 7.+0.j 8.+0.j 9.+0.j]\n"
          ]
        }
      ]
    },
    {
      "cell_type": "markdown",
      "source": [
        "#Sample Program 3\n",
        "\n",
        "A sample program to work with numpy **attributes**"
      ],
      "metadata": {
        "id": "Vpvf0vRDJZCv"
      }
    },
    {
      "cell_type": "code",
      "source": [
        "# These are the various attributes provided by NumPy.\n",
        "\n",
        "import numpy as np\n",
        "a,b,c= input().split()\n",
        "d,e,f = input().split()\n",
        "myArray = np.array([[a,b,c], [d,e,f]])\n",
        "print(myArray)\n",
        "\n",
        "# ndarray.size returns the number of items in the array\n",
        "print(myArray.size)\n",
        "\n",
        "# ndarray.shape returns a tuple consisting of array dimensions\n",
        "print(myArray.shape)\n",
        "\n",
        "# ndarray.ndim returns the number of array dimensions\n",
        "print(myArray.ndim)\n",
        "\n",
        "# ndarray.itemsize returns the memory size of each element in the array\n",
        "print(myArray.itemsize)"
      ],
      "metadata": {
        "colab": {
          "base_uri": "https://localhost:8080/"
        },
        "id": "f8UbD589JYcC",
        "outputId": "f9ba05d1-133a-441c-fe45-5819b9d9aa8a"
      },
      "execution_count": null,
      "outputs": [
        {
          "output_type": "stream",
          "name": "stdout",
          "text": [
            "5 8 2\n",
            "9 6 7\n",
            "[['5' '8' '2']\n",
            " ['9' '6' '7']]\n",
            "6\n",
            "(2, 3)\n",
            "2\n",
            "4\n"
          ]
        }
      ]
    },
    {
      "cell_type": "markdown",
      "source": [
        "#Sample Program 4\n",
        "\n",
        "A sample program to **creat an array from numerical ranges.**\n"
      ],
      "metadata": {
        "id": "A4teOoWcKPk1"
      }
    },
    {
      "cell_type": "code",
      "source": [
        "# This program illustrates how to create an adarray from numerical ranges\n",
        "\n",
        "import numpy as np\n",
        "\n",
        "# ndarray.arange(start, stop, step, dtype)\n",
        "\n",
        "a,b= map(int,input().split())\n",
        "c = int(input())\n",
        "d,e = map(int,input().split())\n",
        "\n",
        "# Creates a numpy array from a to b\n",
        "myArray = np.arange(a,b)\n",
        "print(myArray)\n",
        "\n",
        "# Specifying data type of each element\n",
        "myArray = np.arange(c, dtype = 'float')\n",
        "print(myArray)\n",
        "\n",
        "# Specifying steps to jump in between two elements\n",
        "myArray = np.arange(a,b,2)\n",
        "print(myArray)\n",
        "\n",
        "# ndarray.linspace(start, stop, num, endpoint,  retstep, dtype)\n",
        "# Shows 5 equal intervals between d to e\n",
        "myArray = np.linspace(d,e, 5)\n",
        "print(myArray)\n",
        "\n",
        "# if endpoint is set to false the last number inn STOP parameter is not executed\n",
        "myArray = np.linspace(d,e,5, endpoint = False)\n",
        "print(myArray)\n",
        "\n",
        "# ndarray.lopspace returns an ndarray object that contains the numbers that are evenly spaced\n",
        "# on a log scale.\n",
        "# ndarray.logscale(start, stop, num, endpoint, base, dtype)\n",
        "# default base is 10\n",
        "myArray = np.logspace(1.0, 3.0, num = 10)\n",
        "print(myArray)\n",
        "\n",
        "myArray = np.logspace(1.0, 3.0, num = 10, base = 2)\n",
        "print(myArray)"
      ],
      "metadata": {
        "id": "o_aWDCbCLHby"
      },
      "execution_count": null,
      "outputs": []
    },
    {
      "cell_type": "markdown",
      "source": [
        "#Sample Program 5\n",
        "A sample program to understand various **array manipulation operations**"
      ],
      "metadata": {
        "id": "w9d9fE0VLUqy"
      }
    },
    {
      "cell_type": "code",
      "source": [],
      "metadata": {
        "id": "O8Vl-YTjNYdr"
      },
      "execution_count": null,
      "outputs": []
    },
    {
      "cell_type": "code",
      "source": [
        "# This example shows various array manipulation operations\n",
        "import numpy as np\n",
        "\n",
        "# numpy.reshape(array_to_reshape, tuple_of_new_shape) gives new shape (dimension) to our array\n",
        "a,b,c = map(int,input().split())\n",
        "\n",
        "d,e,f = map(int,input().split()) # Input values to append into array\n",
        "\n",
        "myArray = np.arange(a,b,c)\n",
        "print(myArray)\n",
        "\n",
        "myArrayReshaped = myArray.reshape(5, 3)\n",
        "print(myArrayReshaped)\n",
        "\n",
        "# numpy.ndarray.flat() returns an 1-D iterator\n",
        "print(myArray.flat[5])\n",
        "\n",
        "# numpy.ndarray.flatten() restores the reshaped array into a 1-D array\n",
        "print(myArrayReshaped.flatten())\n",
        "\n",
        "# numpy.tranpose() this helps to find the tranpose of the given array\n",
        "print(myArrayReshaped.transpose())\n",
        "\n",
        "# numpy.swapaxes(array, axis1, axis2) interchanges the two axes of an array\n",
        "originalArray = np.arange(8).reshape(2,2,2)\n",
        "print(originalArray)\n",
        "\n",
        "print(np.swapaxes(originalArray, 2, 0))\n",
        "\n",
        "# numpy.rollaxis(arr, axis, start) rolls the specified axis backwards, until it lies in a specified position\n",
        "print(np.rollaxis(originalArray, 2))\n",
        "\n",
        "# numpy.resize(arr, shape) returns a new array with the specified size. If the new size is greater than\n",
        "# the original, the repeated copies of entries in the original are contained\n",
        "myArray = np.array([[1,2,3],[4,5,6]])\n",
        "print(myArray)\n",
        "print(np.resize(myArray, (3, 2)))\n",
        "\n",
        "# numpy.append(array, values, axis)\n",
        "print(np.append(myArray, [d,e,f]))"
      ],
      "metadata": {
        "colab": {
          "base_uri": "https://localhost:8080/"
        },
        "id": "URj6QTCCM1ot",
        "outputId": "d2fd5e2c-97bc-43f0-faf3-91b16ec2ea2c"
      },
      "execution_count": null,
      "outputs": [
        {
          "output_type": "stream",
          "name": "stdout",
          "text": [
            "1 31 2\n",
            "8 9 11\n",
            "[ 1  3  5  7  9 11 13 15 17 19 21 23 25 27 29]\n",
            "[[ 1  3  5]\n",
            " [ 7  9 11]\n",
            " [13 15 17]\n",
            " [19 21 23]\n",
            " [25 27 29]]\n",
            "11\n",
            "[ 1  3  5  7  9 11 13 15 17 19 21 23 25 27 29]\n",
            "[[ 1  7 13 19 25]\n",
            " [ 3  9 15 21 27]\n",
            " [ 5 11 17 23 29]]\n",
            "[[[0 1]\n",
            "  [2 3]]\n",
            "\n",
            " [[4 5]\n",
            "  [6 7]]]\n",
            "[[[0 4]\n",
            "  [2 6]]\n",
            "\n",
            " [[1 5]\n",
            "  [3 7]]]\n",
            "[[[0 2]\n",
            "  [4 6]]\n",
            "\n",
            " [[1 3]\n",
            "  [5 7]]]\n",
            "[[1 2 3]\n",
            " [4 5 6]]\n",
            "[[1 2]\n",
            " [3 4]\n",
            " [5 6]]\n",
            "[ 1  2  3  4  5  6  8  9 11]\n"
          ]
        }
      ]
    },
    {
      "cell_type": "markdown",
      "source": [
        "#Sample Program 6\n",
        "A sample program to understand various **string functions**"
      ],
      "metadata": {
        "id": "gUvdEln-e8jT"
      }
    },
    {
      "cell_type": "code",
      "source": [
        "import numpy as np\n",
        "\n",
        "str1 = input()\n",
        "str2 = input()\n",
        "str3 = input()\n",
        "str4 = input()\n",
        "str5,str6 = input().split()\n",
        "str7 = input()\n",
        "\n",
        "# string concatenation\n",
        "print(np.char.add(str1, str2))\n",
        "\n",
        "print(np.char.add(str1, 'pqr'))\n",
        "\n",
        "# string multiplication\n",
        "print(np.char.multiply(str1, 3))\n",
        "\n",
        "# numpy.char.center: This function returns an array of the required width so that the input string is\n",
        "# centered and padded on the left and right with fillchar.\n",
        "\n",
        "print(np.char.center(str1, 20, fillchar = '*'))\n",
        "\n",
        "# numpy.char.capitalize(): This function returns the copy of the string with the first letter capitalized.\n",
        "print(np.char.capitalize(str3))\n",
        "\n",
        "# numpy.char.title(): This function returns a title cased version of the input string with the first letter\n",
        "# of each word capitalized.\n",
        "print(np.char.title(str4))\n",
        "\n",
        "# numpy.char.lower(): This function returns an array with elements converted to lowercase. It calls\n",
        "# str.lower for each element.\n",
        "print(np.char.lower([str5,str6]))\n",
        "\n",
        "# numpy.char.upper(): This function calls str.upper function on each element in an array to return\n",
        "# the uppercase array elements.\n",
        "print(np.char.upper(str7))\n",
        "\n",
        "# numpy.char.split(): This function returns a list of words in the input string. By default, a whitespace\n",
        "# is used as a separator\n",
        "print(np.char.split('Hello World'))\n",
        "print(np.char.split('2020-02-11', sep='-'))\n",
        "\n",
        "# numpy.char.join(): This method returns a string in which the individual characters are joined by\n",
        "# separator character specified.\n",
        "print(np.char.join(':','dmy'))"
      ],
      "metadata": {
        "colab": {
          "base_uri": "https://localhost:8080/"
        },
        "id": "ncoAWv7MJxfr",
        "outputId": "92b0fe5b-90fe-4f6c-bb78-fb7477ba0b55"
      },
      "execution_count": null,
      "outputs": [
        {
          "output_type": "stream",
          "name": "stdout",
          "text": [
            "Hello\n",
            "World\n",
            "Welcome\n",
            "to\n",
            "Python Programming\n",
            "Session\n",
            "HelloWorld\n",
            "Hellopqr\n",
            "HelloHelloHello\n",
            "*******Hello********\n",
            "Welcome\n",
            "To\n",
            "['python' 'programming']\n",
            "SESSION\n",
            "['Hello', 'World']\n",
            "['2020', '02', '11']\n",
            "d:m:y\n"
          ]
        }
      ]
    },
    {
      "cell_type": "markdown",
      "source": [
        "#Sample Program 7\n",
        "\n",
        "A Sample program to understand various numpy **mathematical functions**"
      ],
      "metadata": {
        "id": "86vXh_kKO9Hn"
      }
    },
    {
      "cell_type": "code",
      "source": [
        "import numpy as np\n",
        "\n",
        "angle = int(input())\n",
        "\n",
        "# Convert to radians by multiplying with pi/180\n",
        "# for getting sine of angles\n",
        "print(np.sin(angle * np.pi/180))\n",
        "\n",
        "# for getting cosine of angles\n",
        "print(np.cos(angle * np.pi/180))\n",
        "\n",
        "# for getting tangent of angles\n",
        "print(np.tan(angle * np.pi/180))\n",
        "\n",
        "# for computing inverse of trigonometric functions\n",
        "sine = np.sin(angle * np.pi/180)\n",
        "sineinv = np.arcsin(sine)\n",
        "\n",
        "# computing angle from inverse\n",
        "print(np.degrees(sineinv))\n",
        "\n",
        "# for rounding the values\n",
        "print(np.around(sine, 4))\n",
        "\n",
        "# for rounding to previous integer\n",
        "print(np.floor(sine))\n",
        "\n",
        "# for rounding to next integer\n",
        "print(np.ceil(sine))"
      ],
      "metadata": {
        "colab": {
          "base_uri": "https://localhost:8080/"
        },
        "id": "lqDeLnH4PT3y",
        "outputId": "842124eb-4f33-40cc-8a16-806e58d56b6d"
      },
      "execution_count": null,
      "outputs": [
        {
          "output_type": "stream",
          "name": "stdout",
          "text": [
            "60\n",
            "0.8660254037844386\n",
            "0.5000000000000001\n",
            "1.7320508075688767\n",
            "59.99999999999999\n",
            "0.866\n",
            "0.0\n",
            "1.0\n"
          ]
        }
      ]
    },
    {
      "cell_type": "markdown",
      "source": [
        "#Sample Program 8\n",
        "A sample program to understand various numpy **arithmetic operations**"
      ],
      "metadata": {
        "id": "0d8P7aFtRb7c"
      }
    },
    {
      "cell_type": "code",
      "source": [
        "import numpy as np\n",
        "\n",
        "a = int(input())\n",
        "b,c = map(int,input().split())\n",
        "\n",
        "firstArray = np.arange(a).reshape(b,c)\n",
        "print(firstArray)\n",
        "\n",
        "secondArray = np.arange(c)\n",
        "print(secondArray)\n",
        "\n",
        "# adding above two arrays (NOTE: array shapes should be same)\n",
        "print(np.add(firstArray, secondArray))\n",
        "\n",
        "# subtracting above two arrays\n",
        "print(np.subtract(firstArray, secondArray))\n",
        "\n",
        "# multiplying above two arrays\n",
        "print(np.multiply(firstArray, secondArray))\n",
        "\n",
        "\n",
        "# numpy.power(): returns array element raised to the specified value result\n",
        "array = np.array([1, 2, 3])\n",
        "print(np.power(array, 2))"
      ],
      "metadata": {
        "id": "TFvzhU8URpfu"
      },
      "execution_count": null,
      "outputs": []
    },
    {
      "cell_type": "markdown",
      "source": [
        "#Sample program 9\n",
        "A sample program to use **nan, inf, isinf and isnan** in numpy array"
      ],
      "metadata": {
        "id": "ckEHUI21R1mm"
      }
    },
    {
      "cell_type": "code",
      "source": [
        "import numpy as np\n",
        "A=list(map(int,input().split(' ')))\n",
        "B=list(map(int,input().split(' ')))\n",
        "C=list(map(int,input().split(' ')))\n",
        "list2=[A,B,C]\n",
        "arr2=np.array(list2,dtype='float')\n",
        "arr2[1,2]=np.nan\n",
        "arr2[2,3]=np.inf\n",
        "arr2[0,1]=np.inf\n",
        "arr2[1,0]=np.nan\n",
        "missing_bool=np.isnan(arr2) | np.isinf(arr2)\n",
        "arr2[missing_bool]=0 \n",
        "print(arr2)"
      ],
      "metadata": {
        "colab": {
          "base_uri": "https://localhost:8080/"
        },
        "id": "n8MId_0cSpUd",
        "outputId": "3fdf1957-9d76-4151-8d85-55c22043a9a4"
      },
      "execution_count": null,
      "outputs": [
        {
          "output_type": "stream",
          "name": "stdout",
          "text": [
            "1 2 3 4\n",
            "3 4 5 6\n",
            "6 7 8 9\n",
            "[[1. 0. 3. 4.]\n",
            " [0. 4. 0. 6.]\n",
            " [6. 7. 8. 0.]]\n"
          ]
        }
      ]
    },
    {
      "cell_type": "markdown",
      "source": [
        "#Sample Program 10\n",
        "A sample program to find max value in each row and colum in a numpy array. and also find the cumulative sum of the array elements."
      ],
      "metadata": {
        "id": "SdoxOTEMWT0Z"
      }
    },
    {
      "cell_type": "code",
      "source": [
        "import numpy as np\n",
        "R=int(input())\n",
        "C=int(input())\n",
        "list2 = list(map(int, input().split())) \n",
        "arr2=np.array(list2).reshape(R, C) \n",
        "print(arr2)\n",
        "print(\"Column wise maximum : \",np.amax(arr2,axis=0))\n",
        "print(\"Row wise maximum : \",np.amax(arr2,axis=1))\n",
        "print(\"Cumulative Sum : \",np.cumsum(arr2))"
      ],
      "metadata": {
        "colab": {
          "base_uri": "https://localhost:8080/"
        },
        "id": "Sb22zkI_XE9-",
        "outputId": "40673de8-fa4d-46e8-9fc8-9d0edc05ad31"
      },
      "execution_count": null,
      "outputs": [
        {
          "output_type": "stream",
          "name": "stdout",
          "text": [
            "3\n",
            "4\n",
            "9 5 4 2 8 10 35 67 92 17 29 38\n",
            "[[ 9  5  4  2]\n",
            " [ 8 10 35 67]\n",
            " [92 17 29 38]]\n",
            "Column wise maximum :  [92 17 35 67]\n",
            "Row wise maximum :  [ 9 67 92]\n",
            "Cumulative Sum :  [  9  14  18  20  28  38  73 140 232 249 278 316]\n"
          ]
        }
      ]
    },
    {
      "cell_type": "code",
      "source": [
        "print(np.sum(arr2))\n",
        "print(np.amin(arr2,axis=0))\n",
        "print(np.amin(arr2,axis=1))"
      ],
      "metadata": {
        "colab": {
          "base_uri": "https://localhost:8080/"
        },
        "id": "uaTSmChYYmI7",
        "outputId": "a7097654-f681-4185-caef-6cbb6512af74"
      },
      "execution_count": null,
      "outputs": [
        {
          "output_type": "stream",
          "name": "stdout",
          "text": [
            "316\n",
            "[8 5 4 2]\n",
            "[ 2  8 17]\n"
          ]
        }
      ]
    },
    {
      "cell_type": "markdown",
      "source": [
        "#Sample Program 11\n",
        "A sample program to understand **ravel()** in numpy.\n",
        "\n",
        "Ravled array changes the parent "
      ],
      "metadata": {
        "id": "GHryO77-ZHO1"
      }
    },
    {
      "cell_type": "code",
      "source": [
        "import numpy as np\n",
        "r=int(input())\n",
        "c=int(input())\n",
        "list2 = list(map(int, input().split())) \n",
        "arr2=np.array(list2).reshape(r, c)\n",
        "b2=arr2.ravel()\n",
        "b2[3]=101\n",
        "print(arr2)"
      ],
      "metadata": {
        "colab": {
          "base_uri": "https://localhost:8080/"
        },
        "id": "JNw7ieqbZpsA",
        "outputId": "50ff4b51-e11d-4120-e9f2-c35b26480eae"
      },
      "execution_count": null,
      "outputs": [
        {
          "output_type": "stream",
          "name": "stdout",
          "text": [
            "3\n",
            "2\n",
            "2 5 1 7 9 6\n",
            "[[  2   5]\n",
            " [  1 101]\n",
            " [  9   6]]\n"
          ]
        }
      ]
    },
    {
      "cell_type": "markdown",
      "source": [
        "#Code Challenge Example\n",
        "#Cumulative sum\n",
        "**Read Description**\n",
        "\n",
        "Given list of integers write a program to print the cumulative sum of the integers separated by space.\n",
        "\n",
        "**Input Format** :  \n",
        "First line is an integer input 'N' denoting the size of the list.  \n",
        "Second line contains N space separated values representing the values of the list.\n",
        "\n",
        "**Output Format** :  \n",
        "Print the cumulative sum of the list\n",
        "\n",
        "**Sample Input 1**  \n",
        "6  \n",
        "1 2 3 4 5 6\n",
        "\n",
        "**Sample Output 1**  \n",
        "1 3 6 10 15 21\n"
      ],
      "metadata": {
        "id": "wLMEfJCqaJpj"
      }
    },
    {
      "cell_type": "code",
      "source": [
        "import numpy as np\n",
        "n = int(input())\n",
        "li = list(map(int, input().split()))\n",
        "#write your code here\n"
      ],
      "metadata": {
        "colab": {
          "base_uri": "https://localhost:8080/"
        },
        "id": "EGBTtlWldfob",
        "outputId": "7fe7bf29-c5a0-4468-aaff-7ed8a1cb4e7b"
      },
      "execution_count": null,
      "outputs": [
        {
          "output_type": "stream",
          "name": "stdout",
          "text": [
            "5\n",
            "1 2 3 4 5\n",
            "1\n",
            "3\n",
            "6\n",
            "1 0\n",
            "1 5\n"
          ]
        }
      ]
    }
  ]
}